{
 "cells": [
  {
   "cell_type": "code",
   "execution_count": 152,
   "metadata": {},
   "outputs": [],
   "source": [
    "import pandas as pd\n",
    "import numpy as np\n"
   ]
  },
  {
   "cell_type": "code",
   "execution_count": 153,
   "metadata": {},
   "outputs": [],
   "source": [
    "import matplotlib.pyplot as plt\n",
    "import statistics as st\n",
    "import warnings\n",
    "warnings.filterwarnings(\"ignore\")\n",
    "pd.pandas.set_option(\"display.max_columns\",None)"
   ]
  },
  {
   "cell_type": "code",
   "execution_count": 154,
   "metadata": {},
   "outputs": [],
   "source": [
    "data = pd.read_csv(\"Used_Bikes.csv\")"
   ]
  },
  {
   "attachments": {},
   "cell_type": "markdown",
   "metadata": {},
   "source": [
    "## EDA & Feature Engineering"
   ]
  },
  {
   "cell_type": "code",
   "execution_count": 155,
   "metadata": {},
   "outputs": [
    {
     "data": {
      "text/html": [
       "<div>\n",
       "<style scoped>\n",
       "    .dataframe tbody tr th:only-of-type {\n",
       "        vertical-align: middle;\n",
       "    }\n",
       "\n",
       "    .dataframe tbody tr th {\n",
       "        vertical-align: top;\n",
       "    }\n",
       "\n",
       "    .dataframe thead th {\n",
       "        text-align: right;\n",
       "    }\n",
       "</style>\n",
       "<table border=\"1\" class=\"dataframe\">\n",
       "  <thead>\n",
       "    <tr style=\"text-align: right;\">\n",
       "      <th></th>\n",
       "      <th>bike_name</th>\n",
       "      <th>price</th>\n",
       "      <th>city</th>\n",
       "      <th>kms_driven</th>\n",
       "      <th>owner</th>\n",
       "      <th>age</th>\n",
       "      <th>power</th>\n",
       "      <th>brand</th>\n",
       "    </tr>\n",
       "  </thead>\n",
       "  <tbody>\n",
       "    <tr>\n",
       "      <th>0</th>\n",
       "      <td>TVS Star City Plus Dual Tone 110cc</td>\n",
       "      <td>35000.0</td>\n",
       "      <td>Ahmedabad</td>\n",
       "      <td>17654.0</td>\n",
       "      <td>First Owner</td>\n",
       "      <td>3.0</td>\n",
       "      <td>110.0</td>\n",
       "      <td>TVS</td>\n",
       "    </tr>\n",
       "    <tr>\n",
       "      <th>1</th>\n",
       "      <td>Royal Enfield Classic 350cc</td>\n",
       "      <td>119900.0</td>\n",
       "      <td>Delhi</td>\n",
       "      <td>11000.0</td>\n",
       "      <td>First Owner</td>\n",
       "      <td>4.0</td>\n",
       "      <td>350.0</td>\n",
       "      <td>Royal Enfield</td>\n",
       "    </tr>\n",
       "    <tr>\n",
       "      <th>2</th>\n",
       "      <td>Triumph Daytona 675R</td>\n",
       "      <td>600000.0</td>\n",
       "      <td>Delhi</td>\n",
       "      <td>110.0</td>\n",
       "      <td>First Owner</td>\n",
       "      <td>8.0</td>\n",
       "      <td>675.0</td>\n",
       "      <td>Triumph</td>\n",
       "    </tr>\n",
       "    <tr>\n",
       "      <th>3</th>\n",
       "      <td>TVS Apache RTR 180cc</td>\n",
       "      <td>65000.0</td>\n",
       "      <td>Bangalore</td>\n",
       "      <td>16329.0</td>\n",
       "      <td>First Owner</td>\n",
       "      <td>4.0</td>\n",
       "      <td>180.0</td>\n",
       "      <td>TVS</td>\n",
       "    </tr>\n",
       "    <tr>\n",
       "      <th>4</th>\n",
       "      <td>Yamaha FZ S V 2.0 150cc-Ltd. Edition</td>\n",
       "      <td>80000.0</td>\n",
       "      <td>Bangalore</td>\n",
       "      <td>10000.0</td>\n",
       "      <td>First Owner</td>\n",
       "      <td>3.0</td>\n",
       "      <td>150.0</td>\n",
       "      <td>Yamaha</td>\n",
       "    </tr>\n",
       "  </tbody>\n",
       "</table>\n",
       "</div>"
      ],
      "text/plain": [
       "                              bike_name     price       city  kms_driven   \n",
       "0    TVS Star City Plus Dual Tone 110cc   35000.0  Ahmedabad     17654.0  \\\n",
       "1           Royal Enfield Classic 350cc  119900.0      Delhi     11000.0   \n",
       "2                  Triumph Daytona 675R  600000.0      Delhi       110.0   \n",
       "3                  TVS Apache RTR 180cc   65000.0  Bangalore     16329.0   \n",
       "4  Yamaha FZ S V 2.0 150cc-Ltd. Edition   80000.0  Bangalore     10000.0   \n",
       "\n",
       "         owner  age  power          brand  \n",
       "0  First Owner  3.0  110.0            TVS  \n",
       "1  First Owner  4.0  350.0  Royal Enfield  \n",
       "2  First Owner  8.0  675.0        Triumph  \n",
       "3  First Owner  4.0  180.0            TVS  \n",
       "4  First Owner  3.0  150.0         Yamaha  "
      ]
     },
     "execution_count": 155,
     "metadata": {},
     "output_type": "execute_result"
    }
   ],
   "source": [
    "data.head()"
   ]
  },
  {
   "cell_type": "code",
   "execution_count": 156,
   "metadata": {},
   "outputs": [
    {
     "data": {
      "text/html": [
       "<div>\n",
       "<style scoped>\n",
       "    .dataframe tbody tr th:only-of-type {\n",
       "        vertical-align: middle;\n",
       "    }\n",
       "\n",
       "    .dataframe tbody tr th {\n",
       "        vertical-align: top;\n",
       "    }\n",
       "\n",
       "    .dataframe thead th {\n",
       "        text-align: right;\n",
       "    }\n",
       "</style>\n",
       "<table border=\"1\" class=\"dataframe\">\n",
       "  <thead>\n",
       "    <tr style=\"text-align: right;\">\n",
       "      <th></th>\n",
       "      <th>bike_name</th>\n",
       "      <th>price</th>\n",
       "      <th>city</th>\n",
       "      <th>kms_driven</th>\n",
       "      <th>owner</th>\n",
       "      <th>age</th>\n",
       "      <th>power</th>\n",
       "      <th>brand</th>\n",
       "    </tr>\n",
       "  </thead>\n",
       "  <tbody>\n",
       "    <tr>\n",
       "      <th>32643</th>\n",
       "      <td>Hero Passion Pro 100cc</td>\n",
       "      <td>39000.0</td>\n",
       "      <td>Delhi</td>\n",
       "      <td>22000.0</td>\n",
       "      <td>First Owner</td>\n",
       "      <td>4.0</td>\n",
       "      <td>100.0</td>\n",
       "      <td>Hero</td>\n",
       "    </tr>\n",
       "    <tr>\n",
       "      <th>32644</th>\n",
       "      <td>TVS Apache RTR 180cc</td>\n",
       "      <td>30000.0</td>\n",
       "      <td>Karnal</td>\n",
       "      <td>6639.0</td>\n",
       "      <td>First Owner</td>\n",
       "      <td>9.0</td>\n",
       "      <td>180.0</td>\n",
       "      <td>TVS</td>\n",
       "    </tr>\n",
       "    <tr>\n",
       "      <th>32645</th>\n",
       "      <td>Bajaj Avenger Street 220</td>\n",
       "      <td>60000.0</td>\n",
       "      <td>Delhi</td>\n",
       "      <td>20373.0</td>\n",
       "      <td>First Owner</td>\n",
       "      <td>6.0</td>\n",
       "      <td>220.0</td>\n",
       "      <td>Bajaj</td>\n",
       "    </tr>\n",
       "    <tr>\n",
       "      <th>32646</th>\n",
       "      <td>Hero Super Splendor 125cc</td>\n",
       "      <td>15600.0</td>\n",
       "      <td>Jaipur</td>\n",
       "      <td>84186.0</td>\n",
       "      <td>First Owner</td>\n",
       "      <td>16.0</td>\n",
       "      <td>125.0</td>\n",
       "      <td>Hero</td>\n",
       "    </tr>\n",
       "    <tr>\n",
       "      <th>32647</th>\n",
       "      <td>Bajaj Pulsar 150cc</td>\n",
       "      <td>22000.0</td>\n",
       "      <td>Pune</td>\n",
       "      <td>60857.0</td>\n",
       "      <td>First Owner</td>\n",
       "      <td>13.0</td>\n",
       "      <td>150.0</td>\n",
       "      <td>Bajaj</td>\n",
       "    </tr>\n",
       "  </tbody>\n",
       "</table>\n",
       "</div>"
      ],
      "text/plain": [
       "                       bike_name    price    city  kms_driven        owner   \n",
       "32643     Hero Passion Pro 100cc  39000.0   Delhi     22000.0  First Owner  \\\n",
       "32644       TVS Apache RTR 180cc  30000.0  Karnal      6639.0  First Owner   \n",
       "32645   Bajaj Avenger Street 220  60000.0   Delhi     20373.0  First Owner   \n",
       "32646  Hero Super Splendor 125cc  15600.0  Jaipur     84186.0  First Owner   \n",
       "32647         Bajaj Pulsar 150cc  22000.0    Pune     60857.0  First Owner   \n",
       "\n",
       "        age  power  brand  \n",
       "32643   4.0  100.0   Hero  \n",
       "32644   9.0  180.0    TVS  \n",
       "32645   6.0  220.0  Bajaj  \n",
       "32646  16.0  125.0   Hero  \n",
       "32647  13.0  150.0  Bajaj  "
      ]
     },
     "execution_count": 156,
     "metadata": {},
     "output_type": "execute_result"
    }
   ],
   "source": [
    "data.tail()"
   ]
  },
  {
   "cell_type": "code",
   "execution_count": 157,
   "metadata": {},
   "outputs": [
    {
     "data": {
      "text/plain": [
       "bike_name     0\n",
       "price         0\n",
       "city          0\n",
       "kms_driven    0\n",
       "owner         0\n",
       "age           0\n",
       "power         0\n",
       "brand         0\n",
       "dtype: int64"
      ]
     },
     "execution_count": 157,
     "metadata": {},
     "output_type": "execute_result"
    }
   ],
   "source": [
    "data.isnull().sum()"
   ]
  },
  {
   "cell_type": "code",
   "execution_count": 158,
   "metadata": {},
   "outputs": [
    {
     "name": "stdout",
     "output_type": "stream",
     "text": [
      "<class 'pandas.core.frame.DataFrame'>\n",
      "RangeIndex: 32648 entries, 0 to 32647\n",
      "Data columns (total 8 columns):\n",
      " #   Column      Non-Null Count  Dtype  \n",
      "---  ------      --------------  -----  \n",
      " 0   bike_name   32648 non-null  object \n",
      " 1   price       32648 non-null  float64\n",
      " 2   city        32648 non-null  object \n",
      " 3   kms_driven  32648 non-null  float64\n",
      " 4   owner       32648 non-null  object \n",
      " 5   age         32648 non-null  float64\n",
      " 6   power       32648 non-null  float64\n",
      " 7   brand       32648 non-null  object \n",
      "dtypes: float64(4), object(4)\n",
      "memory usage: 2.0+ MB\n"
     ]
    }
   ],
   "source": [
    "data.info()"
   ]
  },
  {
   "cell_type": "code",
   "execution_count": 159,
   "metadata": {},
   "outputs": [
    {
     "data": {
      "text/plain": [
       "(32648, 8)"
      ]
     },
     "execution_count": 159,
     "metadata": {},
     "output_type": "execute_result"
    }
   ],
   "source": [
    "data.shape"
   ]
  },
  {
   "cell_type": "code",
   "execution_count": 160,
   "metadata": {},
   "outputs": [
    {
     "data": {
      "text/plain": [
       "25324"
      ]
     },
     "execution_count": 160,
     "metadata": {},
     "output_type": "execute_result"
    }
   ],
   "source": [
    "data.duplicated().sum()"
   ]
  },
  {
   "cell_type": "code",
   "execution_count": 161,
   "metadata": {},
   "outputs": [],
   "source": [
    "# Drop the duplicated values\n",
    "data.drop_duplicates(inplace=True)"
   ]
  },
  {
   "cell_type": "code",
   "execution_count": 162,
   "metadata": {},
   "outputs": [
    {
     "data": {
      "text/plain": [
       "bike_name     7324\n",
       "price         7324\n",
       "city          7324\n",
       "kms_driven    7324\n",
       "owner         7324\n",
       "age           7324\n",
       "power         7324\n",
       "brand         7324\n",
       "dtype: int64"
      ]
     },
     "execution_count": 162,
     "metadata": {},
     "output_type": "execute_result"
    }
   ],
   "source": [
    "data.count()"
   ]
  },
  {
   "cell_type": "code",
   "execution_count": 163,
   "metadata": {},
   "outputs": [
    {
     "data": {
      "text/plain": [
       "(7324, 8)"
      ]
     },
     "execution_count": 163,
     "metadata": {},
     "output_type": "execute_result"
    }
   ],
   "source": [
    "data.shape"
   ]
  },
  {
   "cell_type": "code",
   "execution_count": 164,
   "metadata": {},
   "outputs": [],
   "source": [
    "categorical_feature = [feature for feature in data.columns if data[feature].dtype=='O']\n",
    "numerical_feature = data.select_dtypes(exclude=\"object\").columns"
   ]
  },
  {
   "cell_type": "code",
   "execution_count": 165,
   "metadata": {},
   "outputs": [
    {
     "name": "stdout",
     "output_type": "stream",
     "text": [
      "Categorical feature are :  ['bike_name', 'city', 'owner', 'brand']\n",
      "numerical_feature are : Index(['price', 'kms_driven', 'age', 'power'], dtype='object')\n"
     ]
    }
   ],
   "source": [
    "print(\"Categorical feature are : \",categorical_feature)\n",
    "print(\"numerical_feature are :\",numerical_feature)"
   ]
  },
  {
   "cell_type": "code",
   "execution_count": 166,
   "metadata": {},
   "outputs": [],
   "source": [
    "import seaborn as sns"
   ]
  },
  {
   "cell_type": "code",
   "execution_count": 167,
   "metadata": {},
   "outputs": [
    {
     "data": {
      "text/html": [
       "<div>\n",
       "<style scoped>\n",
       "    .dataframe tbody tr th:only-of-type {\n",
       "        vertical-align: middle;\n",
       "    }\n",
       "\n",
       "    .dataframe tbody tr th {\n",
       "        vertical-align: top;\n",
       "    }\n",
       "\n",
       "    .dataframe thead th {\n",
       "        text-align: right;\n",
       "    }\n",
       "</style>\n",
       "<table border=\"1\" class=\"dataframe\">\n",
       "  <thead>\n",
       "    <tr style=\"text-align: right;\">\n",
       "      <th></th>\n",
       "      <th>bike_name</th>\n",
       "      <th>price</th>\n",
       "    </tr>\n",
       "  </thead>\n",
       "  <tbody>\n",
       "    <tr>\n",
       "      <th>0</th>\n",
       "      <td>LML Freedom DX 110cc</td>\n",
       "      <td>4400.0</td>\n",
       "    </tr>\n",
       "    <tr>\n",
       "      <th>1</th>\n",
       "      <td>Hero Ambition 135cc</td>\n",
       "      <td>5000.0</td>\n",
       "    </tr>\n",
       "    <tr>\n",
       "      <th>2</th>\n",
       "      <td>Hero Honda Ambition 135cc</td>\n",
       "      <td>7500.0</td>\n",
       "    </tr>\n",
       "    <tr>\n",
       "      <th>3</th>\n",
       "      <td>Suzuki Heat 125cc</td>\n",
       "      <td>8000.0</td>\n",
       "    </tr>\n",
       "    <tr>\n",
       "      <th>4</th>\n",
       "      <td>TVS Star 100cc</td>\n",
       "      <td>9000.0</td>\n",
       "    </tr>\n",
       "    <tr>\n",
       "      <th>5</th>\n",
       "      <td>TVS Fiero 150cc</td>\n",
       "      <td>12000.0</td>\n",
       "    </tr>\n",
       "    <tr>\n",
       "      <th>6</th>\n",
       "      <td>Bajaj XCD 125</td>\n",
       "      <td>13000.0</td>\n",
       "    </tr>\n",
       "    <tr>\n",
       "      <th>7</th>\n",
       "      <td>TVS Flame 125cc</td>\n",
       "      <td>13600.0</td>\n",
       "    </tr>\n",
       "    <tr>\n",
       "      <th>8</th>\n",
       "      <td>Bajaj Boxer CT100</td>\n",
       "      <td>14500.0</td>\n",
       "    </tr>\n",
       "    <tr>\n",
       "      <th>9</th>\n",
       "      <td>Hero Splendor Plus 100 cc</td>\n",
       "      <td>15000.0</td>\n",
       "    </tr>\n",
       "  </tbody>\n",
       "</table>\n",
       "</div>"
      ],
      "text/plain": [
       "                   bike_name    price\n",
       "0       LML Freedom DX 110cc   4400.0\n",
       "1        Hero Ambition 135cc   5000.0\n",
       "2  Hero Honda Ambition 135cc   7500.0\n",
       "3          Suzuki Heat 125cc   8000.0\n",
       "4             TVS Star 100cc   9000.0\n",
       "5            TVS Fiero 150cc  12000.0\n",
       "6              Bajaj XCD 125  13000.0\n",
       "7            TVS Flame 125cc  13600.0\n",
       "8          Bajaj Boxer CT100  14500.0\n",
       "9  Hero Splendor Plus 100 cc  15000.0"
      ]
     },
     "execution_count": 167,
     "metadata": {},
     "output_type": "execute_result"
    }
   ],
   "source": [
    "top_ten_expensive_bike = data.groupby(\"bike_name\")[\"price\"].mean().sort_values(ascending=True).reset_index().head(10)\n",
    "top_ten_expensive_bike\n"
   ]
  },
  {
   "cell_type": "code",
   "execution_count": 168,
   "metadata": {},
   "outputs": [
    {
     "data": {
      "text/plain": [
       "<Axes: xlabel='bike_name', ylabel='price'>"
      ]
     },
     "execution_count": 168,
     "metadata": {},
     "output_type": "execute_result"
    },
    {
     "data": {
      "image/png": "[encoded data removed]",
      "text/plain": [
       "<Figure size 1800x600 with 1 Axes>"
      ]
     },
     "metadata": {},
     "output_type": "display_data"
    }
   ],
   "source": [
    "plt.figure(figsize=(18,6))\n",
    "sns.barplot(x=\"bike_name\",y=\"price\",data=top_ten_expensive_bike)"
   ]
  },
  {
   "cell_type": "code",
   "execution_count": 169,
   "metadata": {},
   "outputs": [
    {
     "data": {
      "text/html": [
       "<div>\n",
       "<style scoped>\n",
       "    .dataframe tbody tr th:only-of-type {\n",
       "        vertical-align: middle;\n",
       "    }\n",
       "\n",
       "    .dataframe tbody tr th {\n",
       "        vertical-align: top;\n",
       "    }\n",
       "\n",
       "    .dataframe thead th {\n",
       "        text-align: right;\n",
       "    }\n",
       "</style>\n",
       "<table border=\"1\" class=\"dataframe\">\n",
       "  <thead>\n",
       "    <tr style=\"text-align: right;\">\n",
       "      <th></th>\n",
       "      <th>bike_name</th>\n",
       "      <th>price</th>\n",
       "      <th>city</th>\n",
       "      <th>kms_driven</th>\n",
       "      <th>owner</th>\n",
       "      <th>age</th>\n",
       "      <th>power</th>\n",
       "      <th>brand</th>\n",
       "    </tr>\n",
       "  </thead>\n",
       "  <tbody>\n",
       "    <tr>\n",
       "      <th>0</th>\n",
       "      <td>TVS Star City Plus Dual Tone 110cc</td>\n",
       "      <td>35000.0</td>\n",
       "      <td>Ahmedabad</td>\n",
       "      <td>17654.0</td>\n",
       "      <td>First Owner</td>\n",
       "      <td>3.0</td>\n",
       "      <td>110.0</td>\n",
       "      <td>TVS</td>\n",
       "    </tr>\n",
       "    <tr>\n",
       "      <th>1</th>\n",
       "      <td>Royal Enfield Classic 350cc</td>\n",
       "      <td>119900.0</td>\n",
       "      <td>Delhi</td>\n",
       "      <td>11000.0</td>\n",
       "      <td>First Owner</td>\n",
       "      <td>4.0</td>\n",
       "      <td>350.0</td>\n",
       "      <td>Royal Enfield</td>\n",
       "    </tr>\n",
       "    <tr>\n",
       "      <th>2</th>\n",
       "      <td>Triumph Daytona 675R</td>\n",
       "      <td>600000.0</td>\n",
       "      <td>Delhi</td>\n",
       "      <td>110.0</td>\n",
       "      <td>First Owner</td>\n",
       "      <td>8.0</td>\n",
       "      <td>675.0</td>\n",
       "      <td>Triumph</td>\n",
       "    </tr>\n",
       "    <tr>\n",
       "      <th>3</th>\n",
       "      <td>TVS Apache RTR 180cc</td>\n",
       "      <td>65000.0</td>\n",
       "      <td>Bangalore</td>\n",
       "      <td>16329.0</td>\n",
       "      <td>First Owner</td>\n",
       "      <td>4.0</td>\n",
       "      <td>180.0</td>\n",
       "      <td>TVS</td>\n",
       "    </tr>\n",
       "    <tr>\n",
       "      <th>4</th>\n",
       "      <td>Yamaha FZ S V 2.0 150cc-Ltd. Edition</td>\n",
       "      <td>80000.0</td>\n",
       "      <td>Bangalore</td>\n",
       "      <td>10000.0</td>\n",
       "      <td>First Owner</td>\n",
       "      <td>3.0</td>\n",
       "      <td>150.0</td>\n",
       "      <td>Yamaha</td>\n",
       "    </tr>\n",
       "  </tbody>\n",
       "</table>\n",
       "</div>"
      ],
      "text/plain": [
       "                              bike_name     price       city  kms_driven   \n",
       "0    TVS Star City Plus Dual Tone 110cc   35000.0  Ahmedabad     17654.0  \\\n",
       "1           Royal Enfield Classic 350cc  119900.0      Delhi     11000.0   \n",
       "2                  Triumph Daytona 675R  600000.0      Delhi       110.0   \n",
       "3                  TVS Apache RTR 180cc   65000.0  Bangalore     16329.0   \n",
       "4  Yamaha FZ S V 2.0 150cc-Ltd. Edition   80000.0  Bangalore     10000.0   \n",
       "\n",
       "         owner  age  power          brand  \n",
       "0  First Owner  3.0  110.0            TVS  \n",
       "1  First Owner  4.0  350.0  Royal Enfield  \n",
       "2  First Owner  8.0  675.0        Triumph  \n",
       "3  First Owner  4.0  180.0            TVS  \n",
       "4  First Owner  3.0  150.0         Yamaha  "
      ]
     },
     "execution_count": 169,
     "metadata": {},
     "output_type": "execute_result"
    }
   ],
   "source": [
    "data.head()"
   ]
  },
  {
   "cell_type": "code",
   "execution_count": 170,
   "metadata": {},
   "outputs": [
    {
     "data": {
      "text/html": [
       "<div>\n",
       "<style scoped>\n",
       "    .dataframe tbody tr th:only-of-type {\n",
       "        vertical-align: middle;\n",
       "    }\n",
       "\n",
       "    .dataframe tbody tr th {\n",
       "        vertical-align: top;\n",
       "    }\n",
       "\n",
       "    .dataframe thead th {\n",
       "        text-align: right;\n",
       "    }\n",
       "</style>\n",
       "<table border=\"1\" class=\"dataframe\">\n",
       "  <thead>\n",
       "    <tr style=\"text-align: right;\">\n",
       "      <th></th>\n",
       "      <th>price</th>\n",
       "      <th>age</th>\n",
       "    </tr>\n",
       "  </thead>\n",
       "  <tbody>\n",
       "    <tr>\n",
       "      <th>0</th>\n",
       "      <td>4400.0</td>\n",
       "      <td>16.0</td>\n",
       "    </tr>\n",
       "    <tr>\n",
       "      <th>1</th>\n",
       "      <td>5000.0</td>\n",
       "      <td>18.0</td>\n",
       "    </tr>\n",
       "    <tr>\n",
       "      <th>2</th>\n",
       "      <td>5800.0</td>\n",
       "      <td>13.0</td>\n",
       "    </tr>\n",
       "    <tr>\n",
       "      <th>3</th>\n",
       "      <td>6400.0</td>\n",
       "      <td>18.0</td>\n",
       "    </tr>\n",
       "    <tr>\n",
       "      <th>4</th>\n",
       "      <td>6700.0</td>\n",
       "      <td>17.0</td>\n",
       "    </tr>\n",
       "  </tbody>\n",
       "</table>\n",
       "</div>"
      ],
      "text/plain": [
       "    price   age\n",
       "0  4400.0  16.0\n",
       "1  5000.0  18.0\n",
       "2  5800.0  13.0\n",
       "3  6400.0  18.0\n",
       "4  6700.0  17.0"
      ]
     },
     "execution_count": 170,
     "metadata": {},
     "output_type": "execute_result"
    }
   ],
   "source": [
    "price_with_age = data.groupby(\"price\")[\"age\"].mean().sort_index(ascending=True).reset_index().head(5)\n",
    "price_with_age"
   ]
  },
  {
   "cell_type": "code",
   "execution_count": 171,
   "metadata": {},
   "outputs": [
    {
     "data": {
      "text/html": [
       "<div>\n",
       "<style scoped>\n",
       "    .dataframe tbody tr th:only-of-type {\n",
       "        vertical-align: middle;\n",
       "    }\n",
       "\n",
       "    .dataframe tbody tr th {\n",
       "        vertical-align: top;\n",
       "    }\n",
       "\n",
       "    .dataframe thead th {\n",
       "        text-align: right;\n",
       "    }\n",
       "</style>\n",
       "<table border=\"1\" class=\"dataframe\">\n",
       "  <thead>\n",
       "    <tr style=\"text-align: right;\">\n",
       "      <th></th>\n",
       "      <th>age</th>\n",
       "      <th>price</th>\n",
       "    </tr>\n",
       "  </thead>\n",
       "  <tbody>\n",
       "    <tr>\n",
       "      <th>0</th>\n",
       "      <td>1.0</td>\n",
       "      <td>299800.000000</td>\n",
       "    </tr>\n",
       "    <tr>\n",
       "      <th>1</th>\n",
       "      <td>2.0</td>\n",
       "      <td>148872.493243</td>\n",
       "    </tr>\n",
       "    <tr>\n",
       "      <th>2</th>\n",
       "      <td>3.0</td>\n",
       "      <td>129113.037383</td>\n",
       "    </tr>\n",
       "    <tr>\n",
       "      <th>3</th>\n",
       "      <td>4.0</td>\n",
       "      <td>119165.138504</td>\n",
       "    </tr>\n",
       "    <tr>\n",
       "      <th>4</th>\n",
       "      <td>5.0</td>\n",
       "      <td>99384.925681</td>\n",
       "    </tr>\n",
       "  </tbody>\n",
       "</table>\n",
       "</div>"
      ],
      "text/plain": [
       "   age          price\n",
       "0  1.0  299800.000000\n",
       "1  2.0  148872.493243\n",
       "2  3.0  129113.037383\n",
       "3  4.0  119165.138504\n",
       "4  5.0   99384.925681"
      ]
     },
     "execution_count": 171,
     "metadata": {},
     "output_type": "execute_result"
    }
   ],
   "source": [
    "price_with_age = data.groupby(\"age\")[\"price\"].mean().sort_index(ascending=True).reset_index().head(5)\n",
    "price_with_age"
   ]
  },
  {
   "cell_type": "code",
   "execution_count": 172,
   "metadata": {},
   "outputs": [
    {
     "data": {
      "text/plain": [
       "<Axes: xlabel='age', ylabel='price'>"
      ]
     },
     "execution_count": 172,
     "metadata": {},
     "output_type": "execute_result"
    },
    {
     "data": {
      "image/png": "[encoded data removed]",
      "text/plain": [
       "<Figure size 1200x600 with 1 Axes>"
      ]
     },
     "metadata": {},
     "output_type": "display_data"
    }
   ],
   "source": [
    "plt.figure(figsize=(12,6))\n",
    "sns.barplot(x=\"age\",y=\"price\",data=price_with_age)"
   ]
  },
  {
   "cell_type": "code",
   "execution_count": 173,
   "metadata": {},
   "outputs": [
    {
     "data": {
      "text/plain": [
       "<Axes: xlabel='price', ylabel='age'>"
      ]
     },
     "execution_count": 173,
     "metadata": {},
     "output_type": "execute_result"
    },
    {
     "data": {
      "image/png": "[encoded data removed]",
      "text/plain": [
       "<Figure size 1200x600 with 1 Axes>"
      ]
     },
     "metadata": {},
     "output_type": "display_data"
    }
   ],
   "source": [
    "plt.figure(figsize=(12,6))\n",
    "sns.barplot(x=\"price\",y=\"age\",data=price_with_age)"
   ]
  },
  {
   "cell_type": "code",
   "execution_count": 174,
   "metadata": {},
   "outputs": [
    {
     "data": {
      "text/html": [
       "<div>\n",
       "<style scoped>\n",
       "    .dataframe tbody tr th:only-of-type {\n",
       "        vertical-align: middle;\n",
       "    }\n",
       "\n",
       "    .dataframe tbody tr th {\n",
       "        vertical-align: top;\n",
       "    }\n",
       "\n",
       "    .dataframe thead th {\n",
       "        text-align: right;\n",
       "    }\n",
       "</style>\n",
       "<table border=\"1\" class=\"dataframe\">\n",
       "  <thead>\n",
       "    <tr style=\"text-align: right;\">\n",
       "      <th></th>\n",
       "      <th>city</th>\n",
       "      <th>price</th>\n",
       "    </tr>\n",
       "  </thead>\n",
       "  <tbody>\n",
       "    <tr>\n",
       "      <th>0</th>\n",
       "      <td>Zirakpur</td>\n",
       "      <td>72000.000000</td>\n",
       "    </tr>\n",
       "    <tr>\n",
       "      <th>1</th>\n",
       "      <td>Yemmiganur</td>\n",
       "      <td>47000.000000</td>\n",
       "    </tr>\n",
       "    <tr>\n",
       "      <th>2</th>\n",
       "      <td>Yamuna Nagar</td>\n",
       "      <td>50000.000000</td>\n",
       "    </tr>\n",
       "    <tr>\n",
       "      <th>3</th>\n",
       "      <td>Wardha</td>\n",
       "      <td>55999.666667</td>\n",
       "    </tr>\n",
       "    <tr>\n",
       "      <th>4</th>\n",
       "      <td>Warangal</td>\n",
       "      <td>102500.000000</td>\n",
       "    </tr>\n",
       "  </tbody>\n",
       "</table>\n",
       "</div>"
      ],
      "text/plain": [
       "           city          price\n",
       "0      Zirakpur   72000.000000\n",
       "1    Yemmiganur   47000.000000\n",
       "2  Yamuna Nagar   50000.000000\n",
       "3        Wardha   55999.666667\n",
       "4      Warangal  102500.000000"
      ]
     },
     "execution_count": 174,
     "metadata": {},
     "output_type": "execute_result"
    }
   ],
   "source": [
    "city_with_prices = data.groupby(\"city\")[\"price\"].mean().sort_index(ascending=False).reset_index().head(5)\n",
    "city_with_prices"
   ]
  },
  {
   "cell_type": "code",
   "execution_count": 175,
   "metadata": {},
   "outputs": [
    {
     "data": {
      "text/plain": [
       "<Axes: xlabel='city', ylabel='price'>"
      ]
     },
     "execution_count": 175,
     "metadata": {},
     "output_type": "execute_result"
    },
    {
     "data": {
      "image/png": "[encoded data removed]",
      "text/plain": [
       "<Figure size 1200x600 with 1 Axes>"
      ]
     },
     "metadata": {},
     "output_type": "display_data"
    }
   ],
   "source": [
    "plt.figure(figsize=(12,6))\n",
    "sns.barplot(x=\"city\",y=\"price\",data=city_with_prices)"
   ]
  },
  {
   "cell_type": "code",
   "execution_count": 176,
   "metadata": {},
   "outputs": [
    {
     "data": {
      "text/html": [
       "<div>\n",
       "<style scoped>\n",
       "    .dataframe tbody tr th:only-of-type {\n",
       "        vertical-align: middle;\n",
       "    }\n",
       "\n",
       "    .dataframe tbody tr th {\n",
       "        vertical-align: top;\n",
       "    }\n",
       "\n",
       "    .dataframe thead th {\n",
       "        text-align: right;\n",
       "    }\n",
       "</style>\n",
       "<table border=\"1\" class=\"dataframe\">\n",
       "  <thead>\n",
       "    <tr style=\"text-align: right;\">\n",
       "      <th></th>\n",
       "      <th>bike_name</th>\n",
       "      <th>price</th>\n",
       "      <th>city</th>\n",
       "      <th>kms_driven</th>\n",
       "      <th>owner</th>\n",
       "      <th>age</th>\n",
       "      <th>power</th>\n",
       "      <th>brand</th>\n",
       "    </tr>\n",
       "  </thead>\n",
       "  <tbody>\n",
       "    <tr>\n",
       "      <th>0</th>\n",
       "      <td>TVS Star City Plus Dual Tone 110cc</td>\n",
       "      <td>35000.0</td>\n",
       "      <td>Ahmedabad</td>\n",
       "      <td>17654.0</td>\n",
       "      <td>First Owner</td>\n",
       "      <td>3.0</td>\n",
       "      <td>110.0</td>\n",
       "      <td>TVS</td>\n",
       "    </tr>\n",
       "    <tr>\n",
       "      <th>1</th>\n",
       "      <td>Royal Enfield Classic 350cc</td>\n",
       "      <td>119900.0</td>\n",
       "      <td>Delhi</td>\n",
       "      <td>11000.0</td>\n",
       "      <td>First Owner</td>\n",
       "      <td>4.0</td>\n",
       "      <td>350.0</td>\n",
       "      <td>Royal Enfield</td>\n",
       "    </tr>\n",
       "    <tr>\n",
       "      <th>2</th>\n",
       "      <td>Triumph Daytona 675R</td>\n",
       "      <td>600000.0</td>\n",
       "      <td>Delhi</td>\n",
       "      <td>110.0</td>\n",
       "      <td>First Owner</td>\n",
       "      <td>8.0</td>\n",
       "      <td>675.0</td>\n",
       "      <td>Triumph</td>\n",
       "    </tr>\n",
       "  </tbody>\n",
       "</table>\n",
       "</div>"
      ],
      "text/plain": [
       "                            bike_name     price       city  kms_driven   \n",
       "0  TVS Star City Plus Dual Tone 110cc   35000.0  Ahmedabad     17654.0  \\\n",
       "1         Royal Enfield Classic 350cc  119900.0      Delhi     11000.0   \n",
       "2                Triumph Daytona 675R  600000.0      Delhi       110.0   \n",
       "\n",
       "         owner  age  power          brand  \n",
       "0  First Owner  3.0  110.0            TVS  \n",
       "1  First Owner  4.0  350.0  Royal Enfield  \n",
       "2  First Owner  8.0  675.0        Triumph  "
      ]
     },
     "execution_count": 176,
     "metadata": {},
     "output_type": "execute_result"
    }
   ],
   "source": [
    "data.head(3)"
   ]
  },
  {
   "cell_type": "code",
   "execution_count": 177,
   "metadata": {},
   "outputs": [
    {
     "data": {
      "text/html": [
       "<div>\n",
       "<style scoped>\n",
       "    .dataframe tbody tr th:only-of-type {\n",
       "        vertical-align: middle;\n",
       "    }\n",
       "\n",
       "    .dataframe tbody tr th {\n",
       "        vertical-align: top;\n",
       "    }\n",
       "\n",
       "    .dataframe thead th {\n",
       "        text-align: right;\n",
       "    }\n",
       "</style>\n",
       "<table border=\"1\" class=\"dataframe\">\n",
       "  <thead>\n",
       "    <tr style=\"text-align: right;\">\n",
       "      <th></th>\n",
       "      <th>brand</th>\n",
       "      <th>price</th>\n",
       "    </tr>\n",
       "  </thead>\n",
       "  <tbody>\n",
       "    <tr>\n",
       "      <th>0</th>\n",
       "      <td>BMW</td>\n",
       "      <td>6.735000e+05</td>\n",
       "    </tr>\n",
       "    <tr>\n",
       "      <th>1</th>\n",
       "      <td>Bajaj</td>\n",
       "      <td>4.903128e+04</td>\n",
       "    </tr>\n",
       "    <tr>\n",
       "      <th>2</th>\n",
       "      <td>Benelli</td>\n",
       "      <td>2.983761e+05</td>\n",
       "    </tr>\n",
       "    <tr>\n",
       "      <th>3</th>\n",
       "      <td>Ducati</td>\n",
       "      <td>9.005750e+05</td>\n",
       "    </tr>\n",
       "    <tr>\n",
       "      <th>4</th>\n",
       "      <td>Harley-Davidson</td>\n",
       "      <td>4.734291e+05</td>\n",
       "    </tr>\n",
       "    <tr>\n",
       "      <th>5</th>\n",
       "      <td>Hero</td>\n",
       "      <td>3.068307e+04</td>\n",
       "    </tr>\n",
       "    <tr>\n",
       "      <th>6</th>\n",
       "      <td>Honda</td>\n",
       "      <td>5.147068e+04</td>\n",
       "    </tr>\n",
       "    <tr>\n",
       "      <th>7</th>\n",
       "      <td>Hyosung</td>\n",
       "      <td>2.432084e+05</td>\n",
       "    </tr>\n",
       "    <tr>\n",
       "      <th>8</th>\n",
       "      <td>Ideal</td>\n",
       "      <td>1.000000e+05</td>\n",
       "    </tr>\n",
       "    <tr>\n",
       "      <th>9</th>\n",
       "      <td>Indian</td>\n",
       "      <td>1.100000e+06</td>\n",
       "    </tr>\n",
       "  </tbody>\n",
       "</table>\n",
       "</div>"
      ],
      "text/plain": [
       "             brand         price\n",
       "0              BMW  6.735000e+05\n",
       "1            Bajaj  4.903128e+04\n",
       "2          Benelli  2.983761e+05\n",
       "3           Ducati  9.005750e+05\n",
       "4  Harley-Davidson  4.734291e+05\n",
       "5             Hero  3.068307e+04\n",
       "6            Honda  5.147068e+04\n",
       "7          Hyosung  2.432084e+05\n",
       "8            Ideal  1.000000e+05\n",
       "9           Indian  1.100000e+06"
      ]
     },
     "execution_count": 177,
     "metadata": {},
     "output_type": "execute_result"
    }
   ],
   "source": [
    "brand_with_price = data.groupby(\"brand\")[\"price\"].mean().reset_index().head(10)\n",
    "brand_with_price"
   ]
  },
  {
   "cell_type": "code",
   "execution_count": 178,
   "metadata": {},
   "outputs": [
    {
     "data": {
      "text/plain": [
       "<Axes: xlabel='brand', ylabel='price'>"
      ]
     },
     "execution_count": 178,
     "metadata": {},
     "output_type": "execute_result"
    },
    {
     "data": {
      "image/png": "[encoded data removed]",
      "text/plain": [
       "<Figure size 1000x500 with 1 Axes>"
      ]
     },
     "metadata": {},
     "output_type": "display_data"
    }
   ],
   "source": [
    "plt.figure(figsize=(10,5))\n",
    "sns.barplot(x=\"brand\",y=\"price\",data=brand_with_price)\n"
   ]
  },
  {
   "cell_type": "code",
   "execution_count": 179,
   "metadata": {},
   "outputs": [
    {
     "data": {
      "text/html": [
       "<div>\n",
       "<style scoped>\n",
       "    .dataframe tbody tr th:only-of-type {\n",
       "        vertical-align: middle;\n",
       "    }\n",
       "\n",
       "    .dataframe tbody tr th {\n",
       "        vertical-align: top;\n",
       "    }\n",
       "\n",
       "    .dataframe thead th {\n",
       "        text-align: right;\n",
       "    }\n",
       "</style>\n",
       "<table border=\"1\" class=\"dataframe\">\n",
       "  <thead>\n",
       "    <tr style=\"text-align: right;\">\n",
       "      <th></th>\n",
       "      <th>brand</th>\n",
       "      <th>price</th>\n",
       "    </tr>\n",
       "  </thead>\n",
       "  <tbody>\n",
       "    <tr>\n",
       "      <th>0</th>\n",
       "      <td>BMW</td>\n",
       "      <td>1800000.0</td>\n",
       "    </tr>\n",
       "    <tr>\n",
       "      <th>1</th>\n",
       "      <td>Bajaj</td>\n",
       "      <td>195000.0</td>\n",
       "    </tr>\n",
       "    <tr>\n",
       "      <th>2</th>\n",
       "      <td>Benelli</td>\n",
       "      <td>785000.0</td>\n",
       "    </tr>\n",
       "    <tr>\n",
       "      <th>3</th>\n",
       "      <td>Ducati</td>\n",
       "      <td>1500000.0</td>\n",
       "    </tr>\n",
       "    <tr>\n",
       "      <th>4</th>\n",
       "      <td>Harley-Davidson</td>\n",
       "      <td>1100000.0</td>\n",
       "    </tr>\n",
       "    <tr>\n",
       "      <th>5</th>\n",
       "      <td>Hero</td>\n",
       "      <td>104000.0</td>\n",
       "    </tr>\n",
       "    <tr>\n",
       "      <th>6</th>\n",
       "      <td>Honda</td>\n",
       "      <td>800000.0</td>\n",
       "    </tr>\n",
       "    <tr>\n",
       "      <th>7</th>\n",
       "      <td>Hyosung</td>\n",
       "      <td>493500.0</td>\n",
       "    </tr>\n",
       "    <tr>\n",
       "      <th>8</th>\n",
       "      <td>Ideal</td>\n",
       "      <td>100000.0</td>\n",
       "    </tr>\n",
       "    <tr>\n",
       "      <th>9</th>\n",
       "      <td>Indian</td>\n",
       "      <td>1900000.0</td>\n",
       "    </tr>\n",
       "  </tbody>\n",
       "</table>\n",
       "</div>"
      ],
      "text/plain": [
       "             brand      price\n",
       "0              BMW  1800000.0\n",
       "1            Bajaj   195000.0\n",
       "2          Benelli   785000.0\n",
       "3           Ducati  1500000.0\n",
       "4  Harley-Davidson  1100000.0\n",
       "5             Hero   104000.0\n",
       "6            Honda   800000.0\n",
       "7          Hyosung   493500.0\n",
       "8            Ideal   100000.0\n",
       "9           Indian  1900000.0"
      ]
     },
     "execution_count": 179,
     "metadata": {},
     "output_type": "execute_result"
    }
   ],
   "source": [
    "brand_price_max=data.groupby(\"brand\")[\"price\"].max().reset_index().head(10)\n",
    "brand_price_max\n"
   ]
  },
  {
   "cell_type": "code",
   "execution_count": 180,
   "metadata": {},
   "outputs": [
    {
     "data": {
      "text/plain": [
       "<Axes: xlabel='brand', ylabel='price'>"
      ]
     },
     "execution_count": 180,
     "metadata": {},
     "output_type": "execute_result"
    },
    {
     "data": {
      "image/png": "[encoded data removed]",
      "text/plain": [
       "<Figure size 1000x500 with 1 Axes>"
      ]
     },
     "metadata": {},
     "output_type": "display_data"
    }
   ],
   "source": [
    "plt.figure(figsize=(10,5))\n",
    "sns.barplot(x=\"brand\",y=\"price\",data=brand_price_max)"
   ]
  },
  {
   "cell_type": "code",
   "execution_count": 181,
   "metadata": {},
   "outputs": [
    {
     "data": {
      "image/png": "[encoded data removed]",
      "text/plain": [
       "<Figure size 1200x600 with 4 Axes>"
      ]
     },
     "metadata": {},
     "output_type": "display_data"
    }
   ],
   "source": [
    "plt.figure(figsize=(12,6))\n",
    "plt.suptitle(\"Checking the ouytlier\")\n",
    "for i in range(0,len(numerical_feature)):\n",
    "    plt.subplot(2,3,i+1)\n",
    "    sns.boxplot(x=data[numerical_feature[i]])\n",
    "    plt.tight_layout()"
   ]
  },
  {
   "cell_type": "code",
   "execution_count": 182,
   "metadata": {},
   "outputs": [
    {
     "data": {
      "text/html": [
       "<div>\n",
       "<style scoped>\n",
       "    .dataframe tbody tr th:only-of-type {\n",
       "        vertical-align: middle;\n",
       "    }\n",
       "\n",
       "    .dataframe tbody tr th {\n",
       "        vertical-align: top;\n",
       "    }\n",
       "\n",
       "    .dataframe thead th {\n",
       "        text-align: right;\n",
       "    }\n",
       "</style>\n",
       "<table border=\"1\" class=\"dataframe\">\n",
       "  <thead>\n",
       "    <tr style=\"text-align: right;\">\n",
       "      <th></th>\n",
       "      <th>price</th>\n",
       "      <th>kms_driven</th>\n",
       "      <th>age</th>\n",
       "      <th>power</th>\n",
       "    </tr>\n",
       "  </thead>\n",
       "  <tbody>\n",
       "    <tr>\n",
       "      <th>count</th>\n",
       "      <td>7.324000e+03</td>\n",
       "      <td>7324.000000</td>\n",
       "      <td>7324.000000</td>\n",
       "      <td>7324.000000</td>\n",
       "    </tr>\n",
       "    <tr>\n",
       "      <th>mean</th>\n",
       "      <td>8.488390e+04</td>\n",
       "      <td>23910.496587</td>\n",
       "      <td>6.656472</td>\n",
       "      <td>228.133397</td>\n",
       "    </tr>\n",
       "    <tr>\n",
       "      <th>std</th>\n",
       "      <td>1.209662e+05</td>\n",
       "      <td>27317.594631</td>\n",
       "      <td>3.605299</td>\n",
       "      <td>158.324219</td>\n",
       "    </tr>\n",
       "    <tr>\n",
       "      <th>min</th>\n",
       "      <td>4.400000e+03</td>\n",
       "      <td>1.000000</td>\n",
       "      <td>1.000000</td>\n",
       "      <td>100.000000</td>\n",
       "    </tr>\n",
       "    <tr>\n",
       "      <th>25%</th>\n",
       "      <td>3.000000e+04</td>\n",
       "      <td>10155.750000</td>\n",
       "      <td>4.000000</td>\n",
       "      <td>125.000000</td>\n",
       "    </tr>\n",
       "    <tr>\n",
       "      <th>50%</th>\n",
       "      <td>5.500000e+04</td>\n",
       "      <td>19000.000000</td>\n",
       "      <td>6.000000</td>\n",
       "      <td>160.000000</td>\n",
       "    </tr>\n",
       "    <tr>\n",
       "      <th>75%</th>\n",
       "      <td>1.000000e+05</td>\n",
       "      <td>30112.000000</td>\n",
       "      <td>8.000000</td>\n",
       "      <td>350.000000</td>\n",
       "    </tr>\n",
       "    <tr>\n",
       "      <th>max</th>\n",
       "      <td>1.900000e+06</td>\n",
       "      <td>750000.000000</td>\n",
       "      <td>63.000000</td>\n",
       "      <td>1800.000000</td>\n",
       "    </tr>\n",
       "  </tbody>\n",
       "</table>\n",
       "</div>"
      ],
      "text/plain": [
       "              price     kms_driven          age        power\n",
       "count  7.324000e+03    7324.000000  7324.000000  7324.000000\n",
       "mean   8.488390e+04   23910.496587     6.656472   228.133397\n",
       "std    1.209662e+05   27317.594631     3.605299   158.324219\n",
       "min    4.400000e+03       1.000000     1.000000   100.000000\n",
       "25%    3.000000e+04   10155.750000     4.000000   125.000000\n",
       "50%    5.500000e+04   19000.000000     6.000000   160.000000\n",
       "75%    1.000000e+05   30112.000000     8.000000   350.000000\n",
       "max    1.900000e+06  750000.000000    63.000000  1800.000000"
      ]
     },
     "execution_count": 182,
     "metadata": {},
     "output_type": "execute_result"
    }
   ],
   "source": [
    "data.describe()"
   ]
  },
  {
   "cell_type": "code",
   "execution_count": 183,
   "metadata": {},
   "outputs": [
    {
     "data": {
      "text/html": [
       "<div>\n",
       "<style scoped>\n",
       "    .dataframe tbody tr th:only-of-type {\n",
       "        vertical-align: middle;\n",
       "    }\n",
       "\n",
       "    .dataframe tbody tr th {\n",
       "        vertical-align: top;\n",
       "    }\n",
       "\n",
       "    .dataframe thead th {\n",
       "        text-align: right;\n",
       "    }\n",
       "</style>\n",
       "<table border=\"1\" class=\"dataframe\">\n",
       "  <thead>\n",
       "    <tr style=\"text-align: right;\">\n",
       "      <th></th>\n",
       "      <th>bike_name</th>\n",
       "      <th>price</th>\n",
       "      <th>city</th>\n",
       "      <th>kms_driven</th>\n",
       "      <th>owner</th>\n",
       "      <th>age</th>\n",
       "      <th>power</th>\n",
       "      <th>brand</th>\n",
       "    </tr>\n",
       "  </thead>\n",
       "  <tbody>\n",
       "    <tr>\n",
       "      <th>0</th>\n",
       "      <td>TVS Star City Plus Dual Tone 110cc</td>\n",
       "      <td>35000.0</td>\n",
       "      <td>Ahmedabad</td>\n",
       "      <td>17654.0</td>\n",
       "      <td>First Owner</td>\n",
       "      <td>3.0</td>\n",
       "      <td>110.0</td>\n",
       "      <td>TVS</td>\n",
       "    </tr>\n",
       "    <tr>\n",
       "      <th>1</th>\n",
       "      <td>Royal Enfield Classic 350cc</td>\n",
       "      <td>119900.0</td>\n",
       "      <td>Delhi</td>\n",
       "      <td>11000.0</td>\n",
       "      <td>First Owner</td>\n",
       "      <td>4.0</td>\n",
       "      <td>350.0</td>\n",
       "      <td>Royal Enfield</td>\n",
       "    </tr>\n",
       "    <tr>\n",
       "      <th>2</th>\n",
       "      <td>Triumph Daytona 675R</td>\n",
       "      <td>600000.0</td>\n",
       "      <td>Delhi</td>\n",
       "      <td>110.0</td>\n",
       "      <td>First Owner</td>\n",
       "      <td>8.0</td>\n",
       "      <td>675.0</td>\n",
       "      <td>Triumph</td>\n",
       "    </tr>\n",
       "  </tbody>\n",
       "</table>\n",
       "</div>"
      ],
      "text/plain": [
       "                            bike_name     price       city  kms_driven   \n",
       "0  TVS Star City Plus Dual Tone 110cc   35000.0  Ahmedabad     17654.0  \\\n",
       "1         Royal Enfield Classic 350cc  119900.0      Delhi     11000.0   \n",
       "2                Triumph Daytona 675R  600000.0      Delhi       110.0   \n",
       "\n",
       "         owner  age  power          brand  \n",
       "0  First Owner  3.0  110.0            TVS  \n",
       "1  First Owner  4.0  350.0  Royal Enfield  \n",
       "2  First Owner  8.0  675.0        Triumph  "
      ]
     },
     "execution_count": 183,
     "metadata": {},
     "output_type": "execute_result"
    }
   ],
   "source": [
    "data.head(3)"
   ]
  },
  {
   "cell_type": "code",
   "execution_count": 184,
   "metadata": {},
   "outputs": [
    {
     "data": {
      "text/plain": [
       "array(['TVS', 'Royal Enfield', 'Triumph', 'Yamaha', 'Honda', 'Hero',\n",
       "       'Bajaj', 'Suzuki', 'Benelli', 'KTM', 'Mahindra', 'Kawasaki',\n",
       "       'Ducati', 'Hyosung', 'Harley-Davidson', 'Jawa', 'BMW', 'Indian',\n",
       "       'Rajdoot', 'LML', 'Yezdi', 'MV', 'Ideal'], dtype=object)"
      ]
     },
     "execution_count": 184,
     "metadata": {},
     "output_type": "execute_result"
    }
   ],
   "source": [
    "data[\"brand\"].unique()"
   ]
  },
  {
   "cell_type": "code",
   "execution_count": 185,
   "metadata": {},
   "outputs": [
    {
     "data": {
      "text/plain": [
       "array(['TVS Star City Plus Dual Tone 110cc',\n",
       "       'Royal Enfield Classic 350cc', 'Triumph Daytona 675R',\n",
       "       'TVS Apache RTR 180cc', 'Yamaha FZ S V 2.0 150cc-Ltd. Edition',\n",
       "       'Yamaha FZs 150cc', 'Honda CB Hornet 160R  ABS DLX',\n",
       "       'Hero Splendor Plus Self Alloy 100cc',\n",
       "       'Royal Enfield Thunderbird X 350cc',\n",
       "       'Royal Enfield Classic Desert Storm 500cc',\n",
       "       'Yamaha YZF-R15 2.0 150cc', 'Yamaha FZ25 250cc',\n",
       "       'Bajaj Pulsar NS200', 'Bajaj Discover 100M', 'Bajaj Discover 125M',\n",
       "       'Bajaj Pulsar NS200 ABS', 'Bajaj Pulsar RS200 ABS',\n",
       "       'Suzuki Gixxer SF 150cc', 'Benelli 302R 300CC',\n",
       "       'Hero Splendor iSmart Plus IBS 110cc',\n",
       "       'Royal Enfield Classic Chrome 500cc', 'Yamaha FZ V 2.0 150cc',\n",
       "       'Hero Super Splendor 125cc', 'Honda CBF Stunner 125cc',\n",
       "       'Bajaj Pulsar 150cc', 'Honda X-Blade 160CC ABS',\n",
       "       'Bajaj Avenger 220cc', 'KTM RC 390cc', 'Honda CB Unicorn 150cc',\n",
       "       'KTM Duke 200cc', 'Honda CBR 150R 150cc',\n",
       "       'Royal Enfield Thunderbird X 500cc', 'KTM RC 200cc ABS',\n",
       "       'Royal Enfield Thunderbird 350cc',\n",
       "       'Royal Enfield Bullet Electra 350cc',\n",
       "       'Bajaj Avenger Street 220 ABS', 'Mahindra Centuro NXT 110cc',\n",
       "       'Hero Hunk 150cc', 'Suzuki Gixxer SF Fi 150cc SP ABS',\n",
       "       'Yamaha FZ 150cc', 'Royal Enfield\\u200e Bullet 350cc',\n",
       "       'TVS Apache RTR 160cc', 'Honda CB Shine 125cc',\n",
       "       'Benelli TNT 600i ABS', 'Honda Dream Yuga 110cc',\n",
       "       'Yamaha SZ 150cc', 'Suzuki Gixxer 150cc',\n",
       "       'Bajaj Avenger Cruise 220', 'Kawasaki Z900', 'Bajaj Pulsar 220cc',\n",
       "       'Hero CD Deluxe 100cc', 'Kawasaki Ninja 650cc',\n",
       "       'Bajaj Platina 125cc', 'Hero Karizma ZMR 223cc',\n",
       "       'Bajaj Pulsar 180cc', 'Yamaha FZ25 ABS 250cc',\n",
       "       'Bajaj CT 100 100cc', 'Royal Enfield Interceptor 650cc',\n",
       "       'KTM Duke 250cc', 'Royal Enfield Himalayan 410cc',\n",
       "       'Bajaj Pulsar 135LS', 'Bajaj Pulsar 220F', 'Yamaha FZ16 150cc',\n",
       "       'Ducati Scrambler 1100 Special', 'Triumph Street Triple 765',\n",
       "       'Bajaj V15 150cc', 'Suzuki Gixxer Fi 150cc ABS',\n",
       "       'Hero Splendor plus 100cc', 'KTM Duke 390cc', 'Honda CBR 250R',\n",
       "       'Bajaj Pulsar RS200', 'Benelli TNT 600i',\n",
       "       'Suzuki Gixxer 150cc SP Rear Disc', 'Yamaha FZ S V 2.0 150cc',\n",
       "       'Royal Enfield Classic 500cc', 'Hyosung GT650R',\n",
       "       'Yamaha YZF-R15 S 150cc', 'TVS Apache RTR 160 4V Disc',\n",
       "       'Benelli TNT 300', 'Honda CB ShineSP 125cc',\n",
       "       'Hero Passion Pro 100cc', 'Hero Splendor Plus 100cc',\n",
       "       'Yamaha YZF R6 600cc', 'Ducati 1299 Superleggera',\n",
       "       'Royal Enfield Electra 350cc', 'TVS Phoenix Disc 125cc',\n",
       "       'Harley-Davidson Street 750',\n",
       "       'Royal Enfield Himalayan 410cc Fi ABS', 'Bajaj Discover 150cc',\n",
       "       'Bajaj Avenger Street 220', 'Royal Enfield Standard 350cc',\n",
       "       'Honda CB Shine 125cc Disc', 'Honda CB Unicorn ABS 150cc',\n",
       "       'Yamaha YZF-R15 V3 150cc', 'Bajaj Pulsar NS 200',\n",
       "       'Bajaj Dominar 400', 'Honda X-Blade 160cc',\n",
       "       'Suzuki Hayabusa 1300cc', 'Ducati Monster 821 Dark',\n",
       "       'Yamaha FZ S V 2.0 150cc Rear Disc',\n",
       "       'Suzuki Gixxer SF 150cc Special MOTOGP Edition Rear Disc',\n",
       "       'KTM RC 200cc', 'Bajaj Discover 125ST',\n",
       "       'Hero Splendor Plus Kick Alloy 100cc', 'Hero Karizma 223cc',\n",
       "       'Hero Splendor 100cc', 'Ducati 1198 SP 1198cc',\n",
       "       'Royal Enfield Bullet 500cc', 'Yamaha Fazer 150cc',\n",
       "       'Yamaha Gladiator 125cc', 'Hero Karizma R 223cc',\n",
       "       'Harley-Davidson Iron 883', 'TVS Apache RTR 200 4V Fi',\n",
       "       'TVS Apache RTR 160 4V DISC ABS BS6', 'Bajaj Dominar 400 ABS',\n",
       "       'Royal Enfield Classic Gunmetal Grey 350cc',\n",
       "       'Hero HF Deluxe i3s iBS 100cc', 'Suzuki Gixxer SF Fi 150cc ABS',\n",
       "       'Hero Splendor iSmart 110cc', 'Bajaj Platina 100cc',\n",
       "       'TVS Apache RTR 200 4V FI', 'Royal Enfield Bullet Twinspark 350cc',\n",
       "       'TVS Star City 110cc', 'Bajaj Platina  Alloy ES-100cc',\n",
       "       'Ducati Panigale 959',\n",
       "       'Royal Enfield Classic 350cc-Redditch Edition', 'TVS Sport 100cc',\n",
       "       'Bajaj Pulsar AS200',\n",
       "       'Royal Enfield Classic Desert Storm 500cc Dual Disc',\n",
       "       'Honda Livo 110cc', 'Suzuki Gixxer SF 150cc SP Rear Disc',\n",
       "       'Yamaha SZ-RR 150cc', 'Royal Enfield Thunderbird 500cc',\n",
       "       'Royal Enfield Bullet Electra Twinspark 350cc',\n",
       "       'Bajaj Discover 150F Disc',\n",
       "       'Yamaha Saluto 125cc Disc Special Edition',\n",
       "       'Triumph Street Triple ABS 675cc', 'Honda CBR 250R ABS',\n",
       "       'Hyosung Aquila GV250', 'Jawa Forty Two 295CC', 'Bajaj V12 125cc',\n",
       "       'Bajaj V12 125cc Disc', 'Yamaha Fazer 25 250cc',\n",
       "       'Hero Xpulse 200T', 'Honda CB Hornet 160R CBS',\n",
       "       'Suzuki Gixxer 150cc SP ABS', 'Hero Passion Xpro 110cc',\n",
       "       'Yamaha YZF-R3 320cc ABS', 'Royal Enfield Bullet 350 cc',\n",
       "       'Hero HF Deluxe 100cc', 'Honda CB Twister 110cc',\n",
       "       'Bajaj Pulsar 125cc Disc CBS', 'Honda CB Shine 125cc Drum BS6',\n",
       "       'Honda CB Hornet 160R STD', 'Honda Dream Neo 110cc', 'BMW G 310 R',\n",
       "       'Bajaj Pulsar AS150', 'Kawasaki Ninja 250cc', 'Benelli TNT 899',\n",
       "       'Indian Chief Classic 1800cc', 'Hero Achiever 150cc',\n",
       "       'TVS Apache 150cc', 'Kawasaki ER-6n 650cc',\n",
       "       'Hero HF Deluxe Self 100cc', 'Bajaj Pulsar NS160',\n",
       "       'Royal Enfield Classic Gunmetal Grey 350cc ABS',\n",
       "       'Suzuki Intruder 150cc', 'TVS Apache RTR 200 4V ABS Race Edition',\n",
       "       'Bajaj CT 100 B', 'Hero Passion Pro 110cc Drum',\n",
       "       'Yamaha YZF-R15 150cc', 'TVS Apache RTR 160 4V DISC ABS',\n",
       "       'Mahindra Mojo 300cc', 'TVS Apache RTR 200 4V Carburetor',\n",
       "       'Hero Ignitor Disc 125cc', 'Bajaj Avenger Street 150',\n",
       "       'Royal Enfield Continental GT 535cc', 'Hero Glamour Disc 125cc',\n",
       "       'Suzuki Gixxer SF Fi 150cc', 'Hero HF Dawn 100cc',\n",
       "       'Suzuki Slingshot Plus 125cc', 'Mahindra Centuro Rockstar 110cc',\n",
       "       'Mahindra Centuro 110cc',\n",
       "       'Honda CB Hornet 160R Special Edition STD',\n",
       "       'Harley-Davidson Street Rod XG750A ABS',\n",
       "       'Hero Splendor Plus IBS i3S 100cc', 'Bajaj Discover 135cc',\n",
       "       'Bajaj Discover 125cc', 'TVS Apache RTR 160 4V DRUM ABS',\n",
       "       'Honda CB Unicorn 160 CBS', 'KTM Duke 125cc', 'Bajaj Boxer BM150',\n",
       "       'Hero Glamour 125cc', 'Bajaj Discover 100cc',\n",
       "       'Bajaj Avenger Street 180', 'TVS Star City Plus 110cc',\n",
       "       'Honda CB Trigger 150cc', 'Kawasaki Ninja 650 KRT Edition',\n",
       "       'Bajaj Platina 100cc ComforTec Alloy', 'Benelli TNT R 1130cc',\n",
       "       'Honda CB Unicorn Dazzler 150cc', 'Benelli TNT 600 GT',\n",
       "       'Hyosung GT250R', 'Yamaha YZF-R1 1000cc', 'Hero Xtreme 200R',\n",
       "       'Ducati Diavel 1200cc', 'Triumph Speed Triple 1050cc',\n",
       "       'Indian Scout Bobber 1130cc', 'Bajaj V15 150cc POWER UP',\n",
       "       'Jawa Standard 295CC', 'Yamaha SZR 150cc', 'TVS Star Sport 100cc',\n",
       "       'Hyosung Aquila 250 250cc', 'Kawasaki Z650', 'Hero CD Dawn 100cc',\n",
       "       'TVS Apache RTR 200 4V ABS', 'Hero Passion 100cc',\n",
       "       'Suzuki Intruder SP 150cc', 'Yamaha YZF-R3 320cc',\n",
       "       'TVS Apache RR310', 'Hero Passion Plus 100cc',\n",
       "       'Royal Enfield Classic 350cc-Redditch Edition Dual Disc',\n",
       "       'Hero CBZ 150cc', 'Yamaha FZS FI 150cc',\n",
       "       'Honda CB Unicorn 160 STD', 'Suzuki GS 150 R 150cc',\n",
       "       'Royal Enfield Machismo 500cc', 'Hero CBZ Xtreme 150cc',\n",
       "       'Yamaha SZ RR V 2.0 150cc', 'TVS Apache RTR 180cc ABS',\n",
       "       'Hero Honda Splendor 100cc', 'Honda CBR 150R Deluxe',\n",
       "       'Hero Ignitor 125cc', 'Bajaj Pulsar 200cc', 'Kawasaki Ninja 300cc',\n",
       "       'Kawasaki Ninja 300 ABS', 'Bajaj Pulsar 150cc Rear Disc',\n",
       "       'Hero Splendor NXG 100cc', 'Hero Achiever Disc 150cc',\n",
       "       'TVS Apache RTR 200 4V Carburetor Race Edition 2.0',\n",
       "       'Royal Enfield Thunderbird 350cc ABS',\n",
       "       'Harley-Davidson Street 750 ABS',\n",
       "       'Bajaj Pulsar 150cc Rear Disc ABS', 'KTM Duke 250cc ABS',\n",
       "       'Bajaj Pulsar 200 NS 200cc', 'Mahindra Mojo Tourer Edition 300cc',\n",
       "       'Hero Passion Pro i3S Alloy 100cc',\n",
       "       'Royal Enfield Thunderbird X 350cc ABS', 'Hero Xtreme 150cc',\n",
       "       'Bajaj Boxer CT100', 'Royal Enfield Bullet 350cc',\n",
       "       'Royal Enfield Standard 500cc', 'Hyosung Aquila Pro GV650',\n",
       "       'Royal Enfield Classic 500cc Dual Disc', 'Suzuki V-Strom 1000cc',\n",
       "       'KTM RC 125CC', 'Suzuki Gixxer SF 250cc ABS',\n",
       "       'Harley-Davidson 1200 Custom', 'Honda Dream Yuga 110cc CBS',\n",
       "       'Hero Splendor Pro 100cc', 'Suzuki Hayate 110cc',\n",
       "       'Yamaha Fazer FI V 2.0 150cc', 'TVS Victor 110cc Disc',\n",
       "       'Royal Enfield Classic Stealth Black 500cc',\n",
       "       'TVS Apache RTR 200 4V Dual Channel ABS BS6',\n",
       "       'Honda CB Shine 125cc CBS', 'Honda Livo Disc 110cc',\n",
       "       'Bajaj Discover 110cc', 'Suzuki Gixxer SF 150cc ABS',\n",
       "       'Hero CD 100SS', 'Hero Honda Splendor Plus 100cc',\n",
       "       'Bajaj Discover 100T', 'Hero HF Deluxe self Alloy 100cc',\n",
       "       'Benelli TNT 25 250cc', 'Yamaha MT-15 150cc',\n",
       "       'Yamaha FZS FI 150cc Rear Disc',\n",
       "       'TVS Apache RTR 200 4V Carburetor Pirelli Tyres',\n",
       "       'Triumph Tiger 800 XRX', 'Ducati XDiavel 1262CC S',\n",
       "       'TVS Suzuki Shogun 110cc', 'Bajaj Discover 125cc Disc',\n",
       "       'Triumph Thunderbird Storm 1700cc', 'Suzuki GSX-S750',\n",
       "       'TVS Flame 125cc', 'Triumph Tiger 800 XCA',\n",
       "       'Royal Enfield Machismo 350cc', 'TVS Victor 110cc',\n",
       "       'Honda CBR650R', 'Hero Xpulse 200cc FI',\n",
       "       'Hero HF Deluxe i3s 100cc',\n",
       "       'TVS Apache RTR 160cc Matt Red Rear Disc', 'Rajdoot GTX 175cc',\n",
       "       'Hero Xtreme 200R ABS', 'Honda CB Unicorn 160',\n",
       "       'Honda CB Hornet 160R Special Edition-CBS',\n",
       "       'TVS Apache RTR 200 4V Carburetor Pirelli Tyres Race Edition 2.0',\n",
       "       'TVS Apache RR310 Slipper Clutch', 'Mahindra Mojo UT300',\n",
       "       'Royal Enfield Bullet Twinspark Kickstart 350cc',\n",
       "       'Bajaj Pulsar  180cc', 'Honda CD 110 Dream',\n",
       "       'Royal Enfield Bullet Twinspark 500cc',\n",
       "       'Hero Xtreme Sports Rear Disc 150cc', 'Bajaj CT 100 ES Alloy',\n",
       "       'Bajaj  Pulsar 180cc', 'Bajaj Discover 150F', 'Hyosung GT 650N',\n",
       "       'Triumph Street Twin 900cc', 'Bajaj CT 100 Alloy',\n",
       "       'TVS Apache RTR 160 4V Drum',\n",
       "       'Yamaha SZ RR V 2.0 150cc Limited Edition',\n",
       "       'Yamaha YZF-R1M 1000cc', 'Hero Glamour i3s 125cc',\n",
       "       'Harley-Davidson Roadster XL 1200CX', 'Triumph Tiger 800 XR',\n",
       "       'KTM Duke 200cc ABS', 'Honda CBR1000RR Fireblade',\n",
       "       'Honda SP125 Disc BS6', 'Bajaj Platina 110 H Gear Disc',\n",
       "       'Hero Splendor Plus 100 cc', 'Honda CBR 250R Repsol',\n",
       "       'Triumph Bonneville T100 865cc', 'Yamaha RX135 135cc 4-Speed',\n",
       "       'Benelli 302R', 'Hero Splendor iSmart 100cc',\n",
       "       'Royal Enfield Classic 350cc Dual Disc', 'Honda CB 1000R',\n",
       "       'Honda CBR 600RR', 'Ducati Monster 797', 'Ducati Monster 1200',\n",
       "       'Suzuki GSX-R 1000cc', 'Ducati Monster 796 Corse Stripe',\n",
       "       'TVS Victor 110cc Disc SBT', 'Honda CB ShineSP 125cc CBS Disc',\n",
       "       'Kawasaki Z250', 'Royal Enfield Classic Squadron Blue 500cc',\n",
       "       'Suzuki Gixxer 150cc Dual Tone Rear Disc', 'TVS Apache RTR 200 4V',\n",
       "       'Honda Livo Disc 110cc CBS', 'TVS Apache RTR 160cc Rear Disc',\n",
       "       'Yamaha FZ S V 3.0 150cc', 'BMW G 310 GS',\n",
       "       'Royal Enfield Classic 350cc Signals Edition',\n",
       "       'Royal Enfield Bullet Electra Twinspark 350cc Double Disc',\n",
       "       'Honda CB Hornet 160R 160cc STD', 'Suzuki Intruder 150cc FI',\n",
       "       'Bajaj Platina 110 CBS', 'Hero Xtreme Sports 150cc',\n",
       "       'Bajaj Avenger Cruise 220 ABS',\n",
       "       'Honda CB Hornet 160R 160cc STD SP', 'Kawasaki Versys 650cc',\n",
       "       'Ducati Multistrada 1200 Enduro',\n",
       "       'Hero Passion Pro i3S Alloy 100cc IBS', 'Hero Xtreme Sports 149cc',\n",
       "       'TVS Apache RTR 160 4V Carburetor', 'Triumph Thruxton R 1200cc',\n",
       "       'Honda CD 110 Dream DX', 'BMW S 1000 XR Pro',\n",
       "       'Honda CB ShineSP 125cc Disc', 'Hero HF Deluxe Eco 100cc',\n",
       "       'Bajaj XCD 125', 'Honda CB ShineSP 125cc CBS',\n",
       "       'Bajaj CT110 ES Alloy', 'TVS Apache RTR 160 4V FI',\n",
       "       'Triumph Bonneville T100 900cc', 'Bajaj Avenger Street 160 ABS',\n",
       "       'TVS Apache RTR 160cc White Race Edition Rear Disc',\n",
       "       'Royal Enfield Himalayan 410cc Sleet Edition',\n",
       "       'Hero Splendor+ 100cc', 'Suzuki Gixxer SF 150cc Rear Disc',\n",
       "       'TVS Apache RTR 160 4V Carburetor With Rear Disc',\n",
       "       'Suzuki Heat 125cc', 'Honda CB Hornet 160R  ABS STD',\n",
       "       'Yamaha Fazer25 250cc', 'Bajaj Pulsar NS160 Rear Disc',\n",
       "       'Honda CB Hornet 160R', 'Bajaj Discover150 150cc',\n",
       "       'Bajaj Discover 125T', 'Bajaj Pulsar 150cc Classic',\n",
       "       'Yamaha Saluto 125cc', 'Hero Passion XPRO 110 cc',\n",
       "       'Yamaha FZS FI 150cc Special Edition', 'TVS Fiero 150cc',\n",
       "       'Mahindra Mojo XT300', 'Bajaj Platina Alloy ES 100cc',\n",
       "       'TVS Jive 110cc', 'Bajaj Boxer AT100', 'Bajaj Discover 150S Disc',\n",
       "       'TVS Radeon 110cc Drum SBT', 'Honda CD 110 Dream Self',\n",
       "       'Suzuki Gixxer 150cc ABS', 'Suzuki Hayate EP 110cc',\n",
       "       'Yamaha SZX 150cc', 'Hero CBZ Star 160cc',\n",
       "       'Hero Passion PRO  100 cc', 'Hero Passion Pro i3S Disc 100cc',\n",
       "       'Bajaj Avenger 200cc', 'Hero Honda Ambition 135cc',\n",
       "       'Bajaj Pulsar 135LS 135cc', 'Bajaj CT 100 KS Alloy',\n",
       "       'BMW S 1000 RR Pro', 'Kawasaki Versys 1000',\n",
       "       'Honda CB Unicorn 150 150cc', 'Kawasaki Z800',\n",
       "       'Hero Glamour PGM Fi 125cc', 'Royal Enfield Continental GT 650cc',\n",
       "       'LML Freedom DX 110cc', 'Harley-Davidson XG750 750cc',\n",
       "       'Yezdi Classic 250cc', 'Hero Passion Pro 100cc Drum Alloy',\n",
       "       'TVS Star 100cc', 'Bajaj XCD 135', 'Bajaj Avenger 150cc',\n",
       "       'Hero HF Deluxe 100 cc', 'Yamaha Fazer FI 150cc',\n",
       "       'TVS Apache RTR 200 4V FI Race Edition 2.0',\n",
       "       'Yamaha FZ V 3.0 150cc', 'Hero Super Splendor 125cc i3s',\n",
       "       'Yamaha SS 125 125cc',\n",
       "       'Suzuki Gixxer SF 150cc Special MOTOGP Edition',\n",
       "       'TVS Victor GX 110cc', 'TVS Apache RTR 200 4V Race Edition 2.0',\n",
       "       'Hero Passion Pro TR 100cc', 'Honda CBR 650 F',\n",
       "       'Yamaha FZ S V 3.0 150cc ABS Dark Knight BS VI',\n",
       "       'Hero HF Deluxe Self Spoke 100cc', 'TVS Sports plus ES 100cc',\n",
       "       'BMW F750 GS 850cc',\n",
       "       'Royal Enfield Bullet Electra Twinspark 350CC ABS',\n",
       "       'Hero Glamour Fi 125cc', 'Royal Enfield Himalayan 410cc Sleet ABS',\n",
       "       'Bajaj Pulsar NS 200cc', 'Yamaha YBR 110cc', 'Bajaj CT 100 Spoke',\n",
       "       'Yamaha Crux 110cc', 'Yamaha Saluto RX 110cc',\n",
       "       'MV Agusta Brutale 1090', 'Royal Enfield Himalayan 410cc Fi',\n",
       "       'MV Agusta F3 800cc', 'Kawasaki Ninja 400', 'Benelli TRK 502X',\n",
       "       'TVS Phoenix 125cc', 'Harley-Davidson Fat Bob 107 Ci',\n",
       "       'TVS Apache RTR 160cc White Race Edition',\n",
       "       'Ideal Jawa Yezdi CL-II 250 cc', 'Hero Splendor Pro Classic 100cc',\n",
       "       'Yamaha FZ Fi Version 2.0 150cc', 'Yamaha SZS 150cc',\n",
       "       'Triumph Daytona 675 ABS',\n",
       "       'Royal Enfield Classic Chrome 500cc ABS',\n",
       "       'Harley-Davidson Sportster 883', 'Suzuki Zeus 125cc',\n",
       "       'Yamaha Saluto 125cc-Special Edition', 'Bajaj Avenger 180cc',\n",
       "       'Bajaj Pulsar 150cc Neon', 'Kawasaki Z1000',\n",
       "       'Hero CBZ Xtreme 150 cc', 'Kawasaki Vulcan S 650cc',\n",
       "       'Yamaha RX-Z 135cc', 'Yamaha Libero G5 110cc',\n",
       "       'Bajaj Pulsar RS200  ABS-200cc', 'Bajaj Discover150S 150cc',\n",
       "       'Hero i Smart 125cc', 'Hero Splendor Plus  100 cc',\n",
       "       'Hero Splendor Plus 100 CC', 'Hero Karizma 223 cc',\n",
       "       'TVS MAX 4R 110cc', 'Mahindra Pantero 110cc',\n",
       "       'Hero Ambition 135cc', 'Honda CBR 250R Repsol ABS',\n",
       "       'Hero Hunk Rear Disc 150cc'], dtype=object)"
      ]
     },
     "execution_count": 185,
     "metadata": {},
     "output_type": "execute_result"
    }
   ],
   "source": [
    "data[\"bike_name\"].unique()"
   ]
  },
  {
   "cell_type": "code",
   "execution_count": 186,
   "metadata": {},
   "outputs": [
    {
     "data": {
      "text/plain": [
       "array(['First Owner', 'Second Owner', 'Third Owner',\n",
       "       'Fourth Owner Or More'], dtype=object)"
      ]
     },
     "execution_count": 186,
     "metadata": {},
     "output_type": "execute_result"
    }
   ],
   "source": [
    "data[\"owner\"].unique()"
   ]
  },
  {
   "cell_type": "code",
   "execution_count": 187,
   "metadata": {},
   "outputs": [],
   "source": [
    "from sklearn.preprocessing import LabelEncoder\n",
    "lable = LabelEncoder()"
   ]
  },
  {
   "cell_type": "code",
   "execution_count": 188,
   "metadata": {},
   "outputs": [],
   "source": [
    "# changing the categorical value into numerical\n",
    "cate_to_num=[\"owner\",\"brand\"]\n",
    "for i in cate_to_num:\n",
    "    data[i] = lable.fit_transform(data[i])"
   ]
  },
  {
   "cell_type": "code",
   "execution_count": 189,
   "metadata": {},
   "outputs": [
    {
     "data": {
      "text/html": [
       "<div>\n",
       "<style scoped>\n",
       "    .dataframe tbody tr th:only-of-type {\n",
       "        vertical-align: middle;\n",
       "    }\n",
       "\n",
       "    .dataframe tbody tr th {\n",
       "        vertical-align: top;\n",
       "    }\n",
       "\n",
       "    .dataframe thead th {\n",
       "        text-align: right;\n",
       "    }\n",
       "</style>\n",
       "<table border=\"1\" class=\"dataframe\">\n",
       "  <thead>\n",
       "    <tr style=\"text-align: right;\">\n",
       "      <th></th>\n",
       "      <th>bike_name</th>\n",
       "      <th>price</th>\n",
       "      <th>city</th>\n",
       "      <th>kms_driven</th>\n",
       "      <th>owner</th>\n",
       "      <th>age</th>\n",
       "      <th>power</th>\n",
       "      <th>brand</th>\n",
       "    </tr>\n",
       "  </thead>\n",
       "  <tbody>\n",
       "    <tr>\n",
       "      <th>0</th>\n",
       "      <td>TVS Star City Plus Dual Tone 110cc</td>\n",
       "      <td>35000.0</td>\n",
       "      <td>Ahmedabad</td>\n",
       "      <td>17654.0</td>\n",
       "      <td>0</td>\n",
       "      <td>3.0</td>\n",
       "      <td>110.0</td>\n",
       "      <td>19</td>\n",
       "    </tr>\n",
       "    <tr>\n",
       "      <th>1</th>\n",
       "      <td>Royal Enfield Classic 350cc</td>\n",
       "      <td>119900.0</td>\n",
       "      <td>Delhi</td>\n",
       "      <td>11000.0</td>\n",
       "      <td>0</td>\n",
       "      <td>4.0</td>\n",
       "      <td>350.0</td>\n",
       "      <td>17</td>\n",
       "    </tr>\n",
       "    <tr>\n",
       "      <th>2</th>\n",
       "      <td>Triumph Daytona 675R</td>\n",
       "      <td>600000.0</td>\n",
       "      <td>Delhi</td>\n",
       "      <td>110.0</td>\n",
       "      <td>0</td>\n",
       "      <td>8.0</td>\n",
       "      <td>675.0</td>\n",
       "      <td>20</td>\n",
       "    </tr>\n",
       "    <tr>\n",
       "      <th>3</th>\n",
       "      <td>TVS Apache RTR 180cc</td>\n",
       "      <td>65000.0</td>\n",
       "      <td>Bangalore</td>\n",
       "      <td>16329.0</td>\n",
       "      <td>0</td>\n",
       "      <td>4.0</td>\n",
       "      <td>180.0</td>\n",
       "      <td>19</td>\n",
       "    </tr>\n",
       "    <tr>\n",
       "      <th>4</th>\n",
       "      <td>Yamaha FZ S V 2.0 150cc-Ltd. Edition</td>\n",
       "      <td>80000.0</td>\n",
       "      <td>Bangalore</td>\n",
       "      <td>10000.0</td>\n",
       "      <td>0</td>\n",
       "      <td>3.0</td>\n",
       "      <td>150.0</td>\n",
       "      <td>21</td>\n",
       "    </tr>\n",
       "  </tbody>\n",
       "</table>\n",
       "</div>"
      ],
      "text/plain": [
       "                              bike_name     price       city  kms_driven   \n",
       "0    TVS Star City Plus Dual Tone 110cc   35000.0  Ahmedabad     17654.0  \\\n",
       "1           Royal Enfield Classic 350cc  119900.0      Delhi     11000.0   \n",
       "2                  Triumph Daytona 675R  600000.0      Delhi       110.0   \n",
       "3                  TVS Apache RTR 180cc   65000.0  Bangalore     16329.0   \n",
       "4  Yamaha FZ S V 2.0 150cc-Ltd. Edition   80000.0  Bangalore     10000.0   \n",
       "\n",
       "   owner  age  power  brand  \n",
       "0      0  3.0  110.0     19  \n",
       "1      0  4.0  350.0     17  \n",
       "2      0  8.0  675.0     20  \n",
       "3      0  4.0  180.0     19  \n",
       "4      0  3.0  150.0     21  "
      ]
     },
     "execution_count": 189,
     "metadata": {},
     "output_type": "execute_result"
    }
   ],
   "source": [
    "data.head()"
   ]
  },
  {
   "cell_type": "code",
   "execution_count": 190,
   "metadata": {},
   "outputs": [
    {
     "data": {
      "text/plain": [
       "(7324, 8)"
      ]
     },
     "execution_count": 190,
     "metadata": {},
     "output_type": "execute_result"
    }
   ],
   "source": [
    "data.shape"
   ]
  },
  {
   "attachments": {},
   "cell_type": "markdown",
   "metadata": {},
   "source": [
    "## Model Training"
   ]
  },
  {
   "cell_type": "code",
   "execution_count": 192,
   "metadata": {},
   "outputs": [],
   "source": [
    "x = data.drop(\"price\",axis=1)\n",
    "y = data[\"price\"] "
   ]
  },
  {
   "cell_type": "code",
   "execution_count": 200,
   "metadata": {},
   "outputs": [],
   "source": [
    "# after using label encoder recyling the categorical and numerical columns\n",
    "\n",
    "categorical_feature_x = x.select_dtypes(include=\"object\").columns\n",
    "numerical_feature_x = x.select_dtypes(exclude=\"object\").columns"
   ]
  },
  {
   "cell_type": "code",
   "execution_count": 201,
   "metadata": {},
   "outputs": [
    {
     "name": "stdout",
     "output_type": "stream",
     "text": [
      "categorical_feature_x Index(['bike_name', 'city'], dtype='object')\n",
      "numerical_feature_x Index(['kms_driven', 'owner', 'age', 'power', 'brand'], dtype='object')\n"
     ]
    }
   ],
   "source": [
    "print(\"categorical_feature_x\",categorical_feature_x)\n",
    "print(\"numerical_feature_x\",numerical_feature_x)"
   ]
  },
  {
   "cell_type": "code",
   "execution_count": 202,
   "metadata": {},
   "outputs": [],
   "source": [
    "from sklearn.preprocessing import StandardScaler,OneHotEncoder\n",
    "from sklearn.impute import SimpleImputer\n",
    "from sklearn.pipeline import Pipeline\n",
    "from sklearn.compose import ColumnTransformer"
   ]
  },
  {
   "cell_type": "code",
   "execution_count": 215,
   "metadata": {},
   "outputs": [],
   "source": [
    "numerical_pipeline = Pipeline(\n",
    "    steps=[\n",
    "        (\"imputer\",SimpleImputer(strategy=\"median\")),\n",
    "        (\"scaler\",StandardScaler())\n",
    "    ]\n",
    ")\n",
    "\n",
    "categorical_pipeline = Pipeline(\n",
    "    steps=[\n",
    "        (\"imputer\",SimpleImputer(strategy=\"most_frequent\")),\n",
    "        (\"onehot\",OneHotEncoder(sparse=False,handle_unknown=\"ignore\")),\n",
    "        (\"scaler\",StandardScaler(with_mean=False)),\n",
    "    ]\n",
    ")\n",
    "\n",
    "# Create Preprocess object\n",
    "preprocessing = ColumnTransformer([\n",
    "    (\"numerical_pipeline\",numerical_pipeline,numerical_feature_x),\n",
    "    (\"categorical_pipeline\",categorical_pipeline,categorical_feature_x)\n",
    "])\n"
   ]
  },
  {
   "cell_type": "code",
   "execution_count": 205,
   "metadata": {},
   "outputs": [],
   "source": [
    "# Train rest split\n",
    "from sklearn.model_selection import train_test_split\n",
    "x_train,x_test,y_train,y_test=train_test_split(x,y,test_size=0.20,random_state=42)"
   ]
  },
  {
   "cell_type": "code",
   "execution_count": 216,
   "metadata": {},
   "outputs": [],
   "source": [
    "# Transform\n",
    "x_train = preprocessing.fit_transform(x_train)\n",
    "x_test = preprocessing.transform(x_test)"
   ]
  },
  {
   "cell_type": "code",
   "execution_count": 218,
   "metadata": {},
   "outputs": [],
   "source": [
    "from sklearn.linear_model import  LinearRegression,Lasso,Ridge,ElasticNet\n",
    "from sklearn.tree import DecisionTreeRegressor\n",
    "from sklearn.svm import LinearSVR\n",
    "from sklearn.ensemble import RandomForestRegressor\n",
    "#from xgboost import XGBRegressor\n",
    "from sklearn.model_selection import GridSearchCV\n",
    "from sklearn.metrics import mean_absolute_error,mean_squared_error,r2_score"
   ]
  },
  {
   "cell_type": "code",
   "execution_count": 219,
   "metadata": {},
   "outputs": [],
   "source": [
    "def model_evalution(test,predict):\n",
    "    mse = mean_squared_error(test,predict)\n",
    "    mae = mean_absolute_error(test,predict)\n",
    "    rmse = np.sqrt(mse)\n",
    "    r2score = r2_score(test,predict)\n",
    "    return mse,mae,rmse,r2score"
   ]
  },
  {
   "cell_type": "code",
   "execution_count": 234,
   "metadata": {},
   "outputs": [
    {
     "name": "stdout",
     "output_type": "stream",
     "text": [
      "LinearRegression\n",
      "Model Traning Performance\n",
      "MSE 1.3646787934043266e+37\n",
      "MAE 2.7282409576171054e+18\n",
      "RMSE 3.694155916314749e+19\n",
      "R2 -7.009597981025256e+26\n",
      "========================================\n",
      "Ridge\n",
      "Model Traning Performance\n",
      "MSE 537755788582.65894\n",
      "MAE 1830554.5119795462\n",
      "RMSE 7333183.405470362\n",
      "R2 72.37846804572688\n",
      "========================================\n",
      "Lesso\n",
      "Model Traning Performance\n",
      "MSE 321401343628.36115\n",
      "MAE 1652176.376818984\n",
      "RMSE 5669226.963425976\n",
      "R2 83.49139577544034\n",
      "========================================\n",
      "Elastic\n",
      "Model Traning Performance\n",
      "MSE 662887373128.7156\n",
      "MAE 2287179.2693111748\n",
      "RMSE 8141789.56451661\n",
      "R2 65.95115264641257\n",
      "========================================\n",
      "LinearSVR\n",
      "Model Traning Performance\n",
      "MSE 2462755948854.11\n",
      "MAE 7212795.266593469\n",
      "RMSE 15693170.326145416\n",
      "R2 -26.498112305106012\n",
      "========================================\n",
      "DecisionTreeRegressor\n",
      "Model Traning Performance\n",
      "MSE 357958569122.9352\n",
      "MAE 1739260.5460750852\n",
      "RMSE 5982963.89027157\n",
      "R2 81.61365388293679\n",
      "========================================\n",
      "RandomForestRegressor\n",
      "Model Traning Performance\n",
      "MSE 263664813905.3219\n",
      "MAE 1396255.9048269137\n",
      "RMSE 5134830.220224637\n",
      "R2 86.45700104558915\n",
      "========================================\n"
     ]
    }
   ],
   "source": [
    "## Without Hyperameters\n",
    "models = {\n",
    "    \"LinearRegression\":LinearRegression(),\n",
    "    \"Ridge\":Ridge(),\n",
    "    \"Lesso\":Lasso(),\n",
    "    \"Elastic\":ElasticNet(),\n",
    "    \"LinearSVR\":LinearSVR(),\n",
    "    \"DecisionTreeRegressor\":DecisionTreeRegressor(),\n",
    "    \"RandomForestRegressor\":RandomForestRegressor(),\n",
    "    #\"XGBRegressor\":XGBRegressor()\n",
    "    \n",
    "}\n",
    "\n",
    "model_list = []\n",
    "r2_list = []\n",
    "y_predict_list = []\n",
    "trainig_score = []\n",
    "\n",
    "for i in range(len(list(models))):\n",
    "    model = list(models.values())[i]\n",
    "    model.fit(x_train,y_train)\n",
    "    score = model.score(x_train,y_train)\n",
    "    # Make Prediction\n",
    "    y_predict = model.predict(x_test)\n",
    "    \n",
    "    mse,mae,rmse,r2sore = model_evalution(y_test,y_predict)\n",
    "    print(list(models.keys())[i])\n",
    "    model_list.append(list(models.keys())[i])\n",
    "    \n",
    "    print(\"Model Traning Performance\")\n",
    "    print(\"MSE\",mse*100)\n",
    "    print(\"MAE\",mae*100)\n",
    "    print(\"RMSE\",rmse*100)\n",
    "    print(\"R2\",r2sore*100)\n",
    "    print(\"=\"*40)\n",
    "    r2_list.append(r2sore*100)\n",
    "    y_predict_list.append(y_predict)\n",
    "    trainig_score.append(score)"
   ]
  },
  {
   "cell_type": "code",
   "execution_count": 231,
   "metadata": {},
   "outputs": [
    {
     "name": "stdout",
     "output_type": "stream",
     "text": [
      "LinearRegression\n",
      "Model Traning Performance\n",
      "MSE 1.3646787934043266e+37\n",
      "MAE 2.7282409576171054e+18\n",
      "RMSE 3.694155916314749e+19\n",
      "R2 -7.009597981025256e+26\n",
      "Traning_scor []\n",
      "Testing_score []\n",
      "========================================\n",
      "Ridge\n",
      "Model Traning Performance\n",
      "MSE 537755788582.65894\n",
      "MAE 1830554.5119795462\n",
      "RMSE 7333183.405470362\n",
      "R2 72.37846804572688\n",
      "Traning_scor [0.9646916776839857]\n",
      "Testing_score [-7.009597981025255e+24]\n",
      "========================================\n",
      "Lasso\n",
      "Model Traning Performance\n",
      "MSE 321401343628.36115\n",
      "MAE 1652176.376818984\n",
      "RMSE 5669226.963425976\n",
      "R2 83.49139577544034\n",
      "Traning_scor [0.9646916776839857, 0.9649093887699798]\n",
      "Testing_score [-7.009597981025255e+24, 0.7237846804572687]\n",
      "========================================\n",
      "Elastic\n",
      "Model Traning Performance\n",
      "MSE 662887373128.7156\n",
      "MAE 2287179.2693111748\n",
      "RMSE 8141789.56451661\n",
      "R2 65.95115264641257\n",
      "Traning_scor [0.9646916776839857, 0.9649093887699798, 0.9649093329499293]\n",
      "Testing_score [-7.009597981025255e+24, 0.7237846804572687, 0.8349139577544034]\n",
      "========================================\n",
      "LinearSVR\n",
      "Model Traning Performance\n",
      "MSE 2462750712629.7974\n",
      "MAE 7212813.4294339735\n",
      "RMSE 15693153.643005595\n",
      "R2 -26.497843349308138\n",
      "Traning_scor [0.9646916776839857, 0.9649093887699798, 0.9649093329499293, 0.9056936458392089]\n",
      "Testing_score [-7.009597981025255e+24, 0.7237846804572687, 0.8349139577544034, 0.6595115264641257]\n",
      "========================================\n",
      "DecisionTreeRegressor\n",
      "Model Traning Performance\n",
      "MSE 481629821959.0444\n",
      "MAE 1847963.276450512\n",
      "RMSE 6939955.489475738\n",
      "R2 75.26134762317346\n",
      "Traning_scor [0.9646916776839857, 0.9649093887699798, 0.9649093329499293, 0.9056936458392089, -0.3216902495840124]\n",
      "Testing_score [-7.009597981025255e+24, 0.7237846804572687, 0.8349139577544034, 0.6595115264641257, -0.26497843349308137]\n",
      "========================================\n",
      "RandomForestRegressor\n",
      "Model Traning Performance\n",
      "MSE 255786330599.3687\n",
      "MAE 1390643.9029519474\n",
      "RMSE 5057532.30933198\n",
      "R2 86.86167503145205\n",
      "Traning_scor [0.9646916776839857, 0.9649093887699798, 0.9649093329499293, 0.9056936458392089, -0.3216902495840124, 0.9988027852721549]\n",
      "Testing_score [-7.009597981025255e+24, 0.7237846804572687, 0.8349139577544034, 0.6595115264641257, -0.26497843349308137, 0.7526134762317347]\n",
      "========================================\n"
     ]
    }
   ],
   "source": [
    "## Without Hyperameters\n",
    "models = {\n",
    "    \"LinearRegression\":LinearRegression(),\n",
    "    \"Ridge\":Ridge(),\n",
    "    \"Lasso\":Lasso(),\n",
    "    \"Elastic\":ElasticNet(),\n",
    "    \"LinearSVR\":LinearSVR(),\n",
    "    \"DecisionTreeRegressor\":DecisionTreeRegressor(),\n",
    "    \"RandomForestRegressor\":RandomForestRegressor(),\n",
    "    #\"XGBRegressor\":XGBRegressor()\n",
    "}\n",
    "\n",
    "model_list = []\n",
    "r2_list = []\n",
    "y_predict_list = []\n",
    "trainig_score = []\n",
    "testing_score = []\n",
    "\n",
    "for i in range(len(list(models))):\n",
    "    model = list(models.values())[i]\n",
    "    model.fit(x_train,y_train)\n",
    "    score = model.score(x_train,y_train)\n",
    "    test_score = model.score(x_test,y_test)\n",
    "    \n",
    "    # Make Prediction\n",
    "    y_predict = model.predict(x_test)\n",
    "    \n",
    "    mse,mae,rmse,r2sore = model_evalution(y_test,y_predict)\n",
    "    print(list(models.keys())[i])\n",
    "    model_list.append(list(models.keys())[i])\n",
    "    \n",
    "    print(\"Model Traning Performance\")\n",
    "    print(\"MSE\",mse*100)\n",
    "    print(\"MAE\",mae*100)\n",
    "    print(\"RMSE\",rmse*100)\n",
    "    print(\"R2\",r2sore*100)\n",
    "    print(\"Traning_scor\",trainig_score)\n",
    "    print(\"Testing_score\",testing_score)\n",
    "    print(\"=\"*40)\n",
    "    r2_list.append(r2sore*100)\n",
    "    y_predict_list.append(y_predict)\n",
    "    trainig_score.append(score)\n",
    "    testing_score.append(test_score)"
   ]
  },
  {
   "cell_type": "code",
   "execution_count": 235,
   "metadata": {},
   "outputs": [
    {
     "data": {
      "text/plain": [
       "[0.9646916776839857,\n",
       " 0.9649093887699798,\n",
       " 0.9649093329499293,\n",
       " 0.9056936458392089,\n",
       " -0.3216946836917065,\n",
       " 0.9988027852721549,\n",
       " 0.9866165083275694]"
      ]
     },
     "execution_count": 235,
     "metadata": {},
     "output_type": "execute_result"
    }
   ],
   "source": [
    "trainig_score"
   ]
  },
  {
   "cell_type": "code",
   "execution_count": 236,
   "metadata": {},
   "outputs": [
    {
     "data": {
      "text/plain": [
       "[-7.009597981025255e+24,\n",
       " 0.7237846804572687,\n",
       " 0.8349139577544034,\n",
       " 0.6595115264641257,\n",
       " -0.26497843349308137,\n",
       " 0.7526134762317347,\n",
       " 0.8686167503145206]"
      ]
     },
     "execution_count": 236,
     "metadata": {},
     "output_type": "execute_result"
    }
   ],
   "source": [
    "testing_score"
   ]
  },
  {
   "cell_type": "code",
   "execution_count": 237,
   "metadata": {},
   "outputs": [],
   "source": [
    "data.to_csv(\"Clean_Bike_Price_Data.csv\",index=False)"
   ]
  },
  {
   "cell_type": "code",
   "execution_count": null,
   "metadata": {},
   "outputs": [],
   "source": []
  }
 ],
 "metadata": {
  "kernelspec": {
   "display_name": "Python 3",
   "language": "python",
   "name": "python3"
  },
  "language_info": {
   "codemirror_mode": {
    "name": "ipython",
    "version": 3
   },
   "file_extension": ".py",
   "mimetype": "text/x-python",
   "name": "python",
   "nbconvert_exporter": "python",
   "pygments_lexer": "ipython3",
   "version": "3.8.0"
  },
  "orig_nbformat": 4
 },
 "nbformat": 4,
 "nbformat_minor": 2
}
